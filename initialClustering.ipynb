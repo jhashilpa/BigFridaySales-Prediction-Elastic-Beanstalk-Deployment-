{
 "cells": [
  {
   "cell_type": "markdown",
   "metadata": {
    "id": "Vgz813YZz2iM"
   },
   "source": [
    "## Import required Libraries"
   ]
  },
  {
   "cell_type": "code",
   "execution_count": 2,
   "metadata": {
    "colab": {
     "base_uri": "https://localhost:8080/"
    },
    "id": "kyHUUVHSVj0C",
    "outputId": "1ffd4286-4fea-4825-c42c-f36e58cf4552"
   },
   "outputs": [
    {
     "name": "stdout",
     "output_type": "stream",
     "text": [
      "Collecting kmodes\n",
      "  Downloading kmodes-0.11.1-py2.py3-none-any.whl (19 kB)\n",
      "Requirement already satisfied: numpy>=1.10.4 in /usr/local/lib/python3.7/dist-packages (from kmodes) (1.19.5)\n",
      "Requirement already satisfied: joblib>=0.11 in /usr/local/lib/python3.7/dist-packages (from kmodes) (1.0.1)\n",
      "Requirement already satisfied: scikit-learn>=0.22.0 in /usr/local/lib/python3.7/dist-packages (from kmodes) (0.22.2.post1)\n",
      "Requirement already satisfied: scipy>=0.13.3 in /usr/local/lib/python3.7/dist-packages (from kmodes) (1.4.1)\n",
      "Installing collected packages: kmodes\n",
      "Successfully installed kmodes-0.11.1\n"
     ]
    }
   ],
   "source": [
    "#pip install kmodes\n",
    "import pickle"
   ]
  },
  {
   "cell_type": "code",
   "execution_count": null,
   "metadata": {
    "id": "Q3JrwuY4z2iU"
   },
   "outputs": [],
   "source": [
    "import pandas as pd\n",
    "import numpy as np\n"
   ]
  },
  {
   "cell_type": "markdown",
   "metadata": {
    "id": "QQj12fllz2iY"
   },
   "source": [
    "## Load and review data"
   ]
  },
  {
   "cell_type": "code",
   "execution_count": null,
   "metadata": {
    "id": "2pI2FZmaz2iZ"
   },
   "outputs": [],
   "source": [
    "df=pd.read_csv(\"train.csv\")"
   ]
  },
  {
   "cell_type": "code",
   "execution_count": null,
   "metadata": {
    "colab": {
     "base_uri": "https://localhost:8080/"
    },
    "id": "HAbKACg10k6g",
    "outputId": "07a35c27-3692-4614-bacb-77495fb94766"
   },
   "outputs": [],
   "source": [
    "df.head()"
   ]
  },
  {
   "cell_type": "markdown",
   "metadata": {
    "id": "zdi0TTFBz2ib"
   },
   "source": [
    "### Data Preprocessing starts"
   ]
  },
  {
   "cell_type": "code",
   "execution_count": 6,
   "metadata": {
    "id": "ozqwahNkz2ib"
   },
   "outputs": [],
   "source": [
    "#Remove following columns\n",
    "df=df.drop(labels=['User_ID','Product_ID'], axis=1)\n"
   ]
  },
  {
   "cell_type": "code",
   "execution_count": 7,
   "metadata": {
    "colab": {
     "base_uri": "https://localhost:8080/",
     "height": 333
    },
    "id": "Y_kAMz2Pz2ic",
    "outputId": "70c3ec96-c911-41d4-c451-dfea91172abc"
   },
   "outputs": [
    {
     "name": "stderr",
     "output_type": "stream",
     "text": [
      "/usr/local/lib/python3.7/dist-packages/seaborn/distributions.py:2619: FutureWarning: `distplot` is a deprecated function and will be removed in a future version. Please adapt your code to use either `displot` (a figure-level function with similar flexibility) or `histplot` (an axes-level function for histograms).\n",
      "  warnings.warn(msg, FutureWarning)\n"
     ]
    },
    {
     "data": {
      "image/png": "[encoded data removed]",
      "text/plain": [
       "<Figure size 432x288 with 1 Axes>"
      ]
     },
     "metadata": {
      "needs_background": "light"
     },
     "output_type": "display_data"
    }
   ],
   "source": [
    "import matplotlib.pyplot as plt # import library for making plots\n",
    "import seaborn as sns\n",
    "sns.distplot(df['Purchase'],kde=False,color='m')\n",
    "plt.show()"
   ]
  },
  {
   "cell_type": "code",
   "execution_count": 8,
   "metadata": {
    "colab": {
     "base_uri": "https://localhost:8080/"
    },
    "id": "_hmZFhGMz2ii",
    "outputId": "4996843d-ddc2-41a1-ca8b-9c78dd259d26"
   },
   "outputs": [
    {
     "name": "stdout",
     "output_type": "stream",
     "text": [
      "Old Shape:  (550068, 10)\n",
      "New Shape:  (547391, 10)\n"
     ]
    }
   ],
   "source": [
    "#Handle Outliers-as of now removing outliers\n",
    "import numpy as np\n",
    "\n",
    "# IQR\n",
    "Q1 = np.percentile(df['Purchase'], 25,\n",
    "                   interpolation = 'midpoint')\n",
    " \n",
    "Q3 = np.percentile(df['Purchase'], 75,\n",
    "                   interpolation = 'midpoint')\n",
    "IQR = Q3 - Q1\n",
    " \n",
    "print(\"Old Shape: \",df.shape)\n",
    " \n",
    "# Upper bound\n",
    "upper = np.where(df['Purchase'] >= (Q3+1.5*IQR))\n",
    "# Lower bound\n",
    "lower = np.where(df['Purchase'] <= (Q1-1.5*IQR))\n",
    " \n",
    "#''' Removing the Outliers '''\n",
    "df.drop(upper[0], inplace = True)\n",
    "df.drop(lower[0], inplace = True)\n",
    " \n",
    "print(\"New Shape: \", df.shape)"
   ]
  },
  {
   "cell_type": "code",
   "execution_count": 9,
   "metadata": {
    "colab": {
     "base_uri": "https://localhost:8080/",
     "height": 333
    },
    "id": "VR0RzRwUz2im",
    "outputId": "f118163d-86d9-4012-be45-4d4ea43c0d40"
   },
   "outputs": [
    {
     "name": "stderr",
     "output_type": "stream",
     "text": [
      "/usr/local/lib/python3.7/dist-packages/seaborn/distributions.py:2619: FutureWarning: `distplot` is a deprecated function and will be removed in a future version. Please adapt your code to use either `displot` (a figure-level function with similar flexibility) or `histplot` (an axes-level function for histograms).\n",
      "  warnings.warn(msg, FutureWarning)\n"
     ]
    },
    {
     "data": {
      "image/png": "[encoded data removed]",
      "text/plain": [
       "<Figure size 432x288 with 1 Axes>"
      ]
     },
     "metadata": {
      "needs_background": "light"
     },
     "output_type": "display_data"
    }
   ],
   "source": [
    "#Plot after removing outliers\n",
    "sns.distplot(df['Purchase'],kde=False,color='m')\n",
    "plt.show()"
   ]
  },
  {
   "cell_type": "code",
   "execution_count": 10,
   "metadata": {
    "colab": {
     "base_uri": "https://localhost:8080/"
    },
    "id": "aUQetuQPz2in",
    "outputId": "41067776-b124-4a0a-fcc8-8d6efa9b84fc"
   },
   "outputs": [
    {
     "name": "stdout",
     "output_type": "stream",
     "text": [
      "Gender                             0\n",
      "Age                                0\n",
      "Occupation                         0\n",
      "City_Category                      0\n",
      "Stay_In_Current_City_Years         0\n",
      "Marital_Status                     0\n",
      "Product_Category_1                 0\n",
      "Product_Category_2            173226\n",
      "Product_Category_3            381211\n",
      "Purchase                           0\n",
      "dtype: int64\n"
     ]
    }
   ],
   "source": [
    "######Null Check\n",
    "null_counts=df.isna().sum()\n",
    "print(null_counts)\n",
    "#Product Category 2 and 3 are having Null values ,but these columns are not useful in predcing the purchase amount. \n",
    "#So we will be dropping certain columns after the exploratory analysis which we carried out previously."
   ]
  },
  {
   "cell_type": "code",
   "execution_count": 11,
   "metadata": {
    "id": "fh21-0qQz2io"
   },
   "outputs": [],
   "source": [
    "#Remove Product Id 2 and Product Category 3 columns\n",
    "df.drop(['Product_Category_2','Product_Category_3'],axis=1,inplace=True)"
   ]
  },
  {
   "cell_type": "code",
   "execution_count": 12,
   "metadata": {
    "id": "3VVni3Zzz2ip"
   },
   "outputs": [],
   "source": [
    "#Divide into labels and features\n",
    "Y=df['Purchase']\n",
    "X=df.drop(['Purchase'],axis=1)"
   ]
  },
  {
   "cell_type": "code",
   "execution_count": 14,
   "metadata": {
    "id": "Aey01fxvz2ir"
   },
   "outputs": [],
   "source": [
    "#Assigning numerical values to Age Categories\n",
    "dic_to_replace = {\"Age\": {\"0-17\": 1, \"18-25\": 2,\"26-35\": 3,\"36-45\": 4,\"46-50\":5,\"51-55\":6,\"55+\": 7},\n",
    "                  \"Stay_In_Current_City_Years\":{\"4+\":5}}\n",
    "X.replace(dic_to_replace, inplace=True)"
   ]
  },
  {
   "cell_type": "code",
   "execution_count": 15,
   "metadata": {
    "id": "XUmecJaUz2ir"
   },
   "outputs": [],
   "source": [
    "X['Stay_In_Current_City_Years']=X['Stay_In_Current_City_Years'].astype('int64')\n",
    "#only run below for clustering\n",
    "X['Marital_Status']=X['Marital_Status'].astype('object')\n",
    "X['Occupation']=X['Occupation'].astype('object')\n",
    "X['Product_Category_1']=X['Product_Category_1'].astype('object')"
   ]
  },
  {
   "cell_type": "markdown",
   "metadata": {
    "id": "WVKlGUuHz2iv"
   },
   "source": [
    "### Data Preprocessing ends"
   ]
  },
  {
   "cell_type": "markdown",
   "metadata": {},
   "source": [
    "### Divide the complete dataset into different clusters and store it in respective files"
   ]
  },
  {
   "cell_type": "code",
   "execution_count": 17,
   "metadata": {
    "colab": {
     "base_uri": "https://localhost:8080/"
    },
    "id": "OBPRwVvkz2iz",
    "outputId": "293a74c9-c6c9-484a-cdf4-15def9fae552"
   },
   "outputs": [
    {
     "name": "stdout",
     "output_type": "stream",
     "text": [
      "Init: initializing centroids\n",
      "Init: initializing clusters\n",
      "Starting iterations...\n",
      "Run: 1, iteration: 1/2, moves: 117540, ncost: 2419024.623887767\n",
      "Run: 1, iteration: 2/2, moves: 50368, ncost: 2374086.4721741662\n",
      "Init: initializing centroids\n",
      "Init: initializing clusters\n",
      "Starting iterations...\n",
      "Run: 2, iteration: 1/2, moves: 148766, ncost: 2081089.6151370658\n",
      "Run: 2, iteration: 2/2, moves: 35150, ncost: 2054085.328199506\n",
      "Init: initializing centroids\n",
      "Init: initializing clusters\n",
      "Starting iterations...\n",
      "Run: 3, iteration: 1/2, moves: 53962, ncost: 2385854.808494557\n",
      "Run: 3, iteration: 2/2, moves: 30785, ncost: 2338929.0509613664\n",
      "Init: initializing centroids\n",
      "Init: initializing clusters\n",
      "Starting iterations...\n",
      "Run: 4, iteration: 1/2, moves: 161667, ncost: 2302924.0673073586\n",
      "Run: 4, iteration: 2/2, moves: 130112, ncost: 2107835.9034647164\n",
      "Init: initializing centroids\n",
      "Init: initializing clusters\n",
      "Starting iterations...\n",
      "Run: 5, iteration: 1/2, moves: 144144, ncost: 2095840.684769823\n",
      "Run: 5, iteration: 2/2, moves: 48464, ncost: 2069929.436797267\n",
      "Init: initializing centroids\n",
      "Init: initializing clusters\n",
      "Starting iterations...\n",
      "Run: 6, iteration: 1/2, moves: 152662, ncost: 2130253.6568895164\n",
      "Run: 6, iteration: 2/2, moves: 61348, ncost: 2081555.3143257583\n",
      "Init: initializing centroids\n",
      "Init: initializing clusters\n",
      "Starting iterations...\n",
      "Run: 7, iteration: 1/2, moves: 113926, ncost: 2260133.894184953\n",
      "Run: 7, iteration: 2/2, moves: 92467, ncost: 2154900.704850496\n",
      "Init: initializing centroids\n",
      "Init: initializing clusters\n",
      "Starting iterations...\n",
      "Run: 8, iteration: 1/2, moves: 89708, ncost: 2066734.5474983645\n",
      "Run: 8, iteration: 2/2, moves: 18515, ncost: 2061605.6550367312\n",
      "Init: initializing centroids\n",
      "Init: initializing clusters\n",
      "Starting iterations...\n",
      "Run: 9, iteration: 1/2, moves: 101393, ncost: 2203298.4565335875\n",
      "Run: 9, iteration: 2/2, moves: 70085, ncost: 2136650.721914768\n",
      "Init: initializing centroids\n",
      "Init: initializing clusters\n",
      "Starting iterations...\n",
      "Run: 10, iteration: 1/2, moves: 116363, ncost: 2191859.2698674942\n",
      "Run: 10, iteration: 2/2, moves: 78454, ncost: 2099486.9029541276\n",
      "Best run was number 2\n"
     ]
    }
   ],
   "source": [
    "#Run clusters . Going for 3 clusters \n",
    "kproto = KPrototypes(n_clusters=3, verbose=2,max_iter=2)\n",
    "clusters_label = kproto.fit_predict(X, categorical=[0, 2, 3,5, 6])"
   ]
  },
  {
   "cell_type": "code",
   "execution_count": 20,
   "metadata": {
    "colab": {
     "base_uri": "https://localhost:8080/",
     "height": 224
    },
    "id": "xnN-Q1IDzm2D",
    "outputId": "d9cd4132-4ee0-4c3f-b727-137fb8b11e2c"
   },
   "outputs": [
    {
     "data": {
      "text/html": [
       "<div>\n",
       "<style scoped>\n",
       "    .dataframe tbody tr th:only-of-type {\n",
       "        vertical-align: middle;\n",
       "    }\n",
       "\n",
       "    .dataframe tbody tr th {\n",
       "        vertical-align: top;\n",
       "    }\n",
       "\n",
       "    .dataframe thead th {\n",
       "        text-align: right;\n",
       "    }\n",
       "</style>\n",
       "<table border=\"1\" class=\"dataframe\">\n",
       "  <thead>\n",
       "    <tr style=\"text-align: right;\">\n",
       "      <th></th>\n",
       "      <th>Gender</th>\n",
       "      <th>Age</th>\n",
       "      <th>Occupation</th>\n",
       "      <th>City_Category</th>\n",
       "      <th>Stay_In_Current_City_Years</th>\n",
       "      <th>Marital_Status</th>\n",
       "      <th>Product_Category_1</th>\n",
       "      <th>clusterNo</th>\n",
       "      <th>Purchase</th>\n",
       "    </tr>\n",
       "  </thead>\n",
       "  <tbody>\n",
       "    <tr>\n",
       "      <th>0</th>\n",
       "      <td>F</td>\n",
       "      <td>1</td>\n",
       "      <td>10</td>\n",
       "      <td>A</td>\n",
       "      <td>2</td>\n",
       "      <td>0</td>\n",
       "      <td>3</td>\n",
       "      <td>2</td>\n",
       "      <td>8370</td>\n",
       "    </tr>\n",
       "    <tr>\n",
       "      <th>1</th>\n",
       "      <td>F</td>\n",
       "      <td>1</td>\n",
       "      <td>10</td>\n",
       "      <td>A</td>\n",
       "      <td>2</td>\n",
       "      <td>0</td>\n",
       "      <td>1</td>\n",
       "      <td>2</td>\n",
       "      <td>15200</td>\n",
       "    </tr>\n",
       "    <tr>\n",
       "      <th>2</th>\n",
       "      <td>F</td>\n",
       "      <td>1</td>\n",
       "      <td>10</td>\n",
       "      <td>A</td>\n",
       "      <td>2</td>\n",
       "      <td>0</td>\n",
       "      <td>12</td>\n",
       "      <td>2</td>\n",
       "      <td>1422</td>\n",
       "    </tr>\n",
       "    <tr>\n",
       "      <th>3</th>\n",
       "      <td>F</td>\n",
       "      <td>1</td>\n",
       "      <td>10</td>\n",
       "      <td>A</td>\n",
       "      <td>2</td>\n",
       "      <td>0</td>\n",
       "      <td>12</td>\n",
       "      <td>2</td>\n",
       "      <td>1057</td>\n",
       "    </tr>\n",
       "    <tr>\n",
       "      <th>4</th>\n",
       "      <td>M</td>\n",
       "      <td>7</td>\n",
       "      <td>16</td>\n",
       "      <td>C</td>\n",
       "      <td>5</td>\n",
       "      <td>0</td>\n",
       "      <td>8</td>\n",
       "      <td>0</td>\n",
       "      <td>7969</td>\n",
       "    </tr>\n",
       "  </tbody>\n",
       "</table>\n",
       "</div>"
      ],
      "text/plain": [
       "  Gender  Age Occupation  ... Product_Category_1  clusterNo Purchase\n",
       "0      F    1         10  ...                  3          2     8370\n",
       "1      F    1         10  ...                  1          2    15200\n",
       "2      F    1         10  ...                 12          2     1422\n",
       "3      F    1         10  ...                 12          2     1057\n",
       "4      M    7         16  ...                  8          0     7969\n",
       "\n",
       "[5 rows x 9 columns]"
      ]
     },
     "execution_count": 20,
     "metadata": {},
     "output_type": "execute_result"
    }
   ],
   "source": [
    "X['clusterNo']=clusters_label\n",
    "X['Purchase']=Y\n",
    "X.head()"
   ]
  },
  {
   "cell_type": "code",
   "execution_count": 25,
   "metadata": {
    "id": "CbtmKdTqISuf"
   },
   "outputs": [],
   "source": [
    "#Save this model as it will be useful in test dataset\n",
    "with open( 'clusteringModel.sav', 'wb') as f:\n",
    "    pickle.dump(kproto,f)"
   ]
  },
  {
   "cell_type": "markdown",
   "metadata": {},
   "source": [
    "### Storing each cluster dataset into respective csv files"
   ]
  },
  {
   "cell_type": "code",
   "execution_count": 26,
   "metadata": {
    "colab": {
     "base_uri": "https://localhost:8080/"
    },
    "id": "uNUxvZAa0AQX",
    "outputId": "75e5f972-f0e7-4af6-a92f-d6bd84320290"
   },
   "outputs": [
    {
     "name": "stdout",
     "output_type": "stream",
     "text": [
      "(94750, 9)\n"
     ]
    }
   ],
   "source": [
    "cluster0=X[X['clusterNo']==0]\n",
    "print(cluster0.shape)\n",
    "cluster0.to_csv(\"Cluster_0.csv\")"
   ]
  },
  {
   "cell_type": "code",
   "execution_count": 27,
   "metadata": {
    "colab": {
     "base_uri": "https://localhost:8080/"
    },
    "id": "hwUwqFoB0L0L",
    "outputId": "e3242e29-b329-4e0e-8a7c-28ae585154e3"
   },
   "outputs": [
    {
     "name": "stdout",
     "output_type": "stream",
     "text": [
      "(161379, 9)\n"
     ]
    }
   ],
   "source": [
    "cluster1=X[X['clusterNo']==1]\n",
    "print(cluster1.shape)\n",
    "cluster1.to_csv(\"Cluster_1.csv\")"
   ]
  },
  {
   "cell_type": "code",
   "execution_count": 28,
   "metadata": {
    "colab": {
     "base_uri": "https://localhost:8080/"
    },
    "id": "iewEumH-0MBI",
    "outputId": "ad9a810e-cc11-4537-d51f-11c5f33a8553"
   },
   "outputs": [
    {
     "name": "stdout",
     "output_type": "stream",
     "text": [
      "(291262, 9)\n"
     ]
    }
   ],
   "source": [
    "cluster2=X[X['clusterNo']==2]\n",
    "print(cluster2.shape)\n",
    "cluster2.to_csv(\"Cluster_2.csv\")"
   ]
  }
 ],
 "metadata": {
  "accelerator": "TPU",
  "colab": {
   "collapsed_sections": [
    "XIpavo7jz2i5",
    "WQM0Vs7Lz2jD",
    "YqW4wEBkz2jD",
    "Ida1xQXaz2jP",
    "iu2AbvQiz2jf",
    "08jzShbWz2jj",
    "9GtdjXObz2jl"
   ],
   "name": "kModes .ipynb",
   "provenance": []
  },
  "kernelspec": {
   "display_name": "Python 3",
   "language": "python",
   "name": "python3"
  },
  "language_info": {
   "codemirror_mode": {
    "name": "ipython",
    "version": 3
   },
   "file_extension": ".py",
   "mimetype": "text/x-python",
   "name": "python",
   "nbconvert_exporter": "python",
   "pygments_lexer": "ipython3",
   "version": "3.7.4"
  }
 },
 "nbformat": 4,
 "nbformat_minor": 1
}
