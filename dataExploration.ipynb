{
 "cells": [
  {
   "cell_type": "code",
   "execution_count": 75,
   "metadata": {},
   "outputs": [],
   "source": [
    "import pandas as pd\n",
    "import numpy as np\n",
    "import matplotlib.pyplot as plt\n",
    "import seaborn as sns\n",
    "sns.set_style('darkgrid')\n",
    "import random\n",
    "from IPython.display import display_html"
   ]
  },
  {
   "cell_type": "code",
   "execution_count": 76,
   "metadata": {},
   "outputs": [],
   "source": [
    "pd.set_option('display.max_colwidth', None)"
   ]
  },
  {
   "cell_type": "code",
   "execution_count": 77,
   "metadata": {},
   "outputs": [
    {
     "data": {
      "text/plain": [
       "(550068, 12)"
      ]
     },
     "execution_count": 77,
     "metadata": {},
     "output_type": "execute_result"
    }
   ],
   "source": [
    "data: pd.DataFrame = pd.read_csv('train.csv')\n",
    "    \n",
    "data.shape"
   ]
  },
  {
   "cell_type": "code",
   "execution_count": 78,
   "metadata": {},
   "outputs": [
    {
     "data": {
      "text/html": [
       "<div>\n",
       "<style scoped>\n",
       "    .dataframe tbody tr th:only-of-type {\n",
       "        vertical-align: middle;\n",
       "    }\n",
       "\n",
       "    .dataframe tbody tr th {\n",
       "        vertical-align: top;\n",
       "    }\n",
       "\n",
       "    .dataframe thead th {\n",
       "        text-align: right;\n",
       "    }\n",
       "</style>\n",
       "<table border=\"1\" class=\"dataframe\">\n",
       "  <thead>\n",
       "    <tr style=\"text-align: right;\">\n",
       "      <th></th>\n",
       "      <th>User_ID</th>\n",
       "      <th>Product_ID</th>\n",
       "      <th>Gender</th>\n",
       "      <th>Age</th>\n",
       "      <th>Occupation</th>\n",
       "      <th>City_Category</th>\n",
       "      <th>Stay_In_Current_City_Years</th>\n",
       "      <th>Marital_Status</th>\n",
       "      <th>Product_Category_1</th>\n",
       "      <th>Product_Category_2</th>\n",
       "      <th>Product_Category_3</th>\n",
       "      <th>Purchase</th>\n",
       "    </tr>\n",
       "  </thead>\n",
       "  <tbody>\n",
       "    <tr>\n",
       "      <th>0</th>\n",
       "      <td>1000001</td>\n",
       "      <td>P00069042</td>\n",
       "      <td>F</td>\n",
       "      <td>0-17</td>\n",
       "      <td>10</td>\n",
       "      <td>A</td>\n",
       "      <td>2</td>\n",
       "      <td>0</td>\n",
       "      <td>3</td>\n",
       "      <td>NaN</td>\n",
       "      <td>NaN</td>\n",
       "      <td>8370</td>\n",
       "    </tr>\n",
       "    <tr>\n",
       "      <th>1</th>\n",
       "      <td>1000001</td>\n",
       "      <td>P00248942</td>\n",
       "      <td>F</td>\n",
       "      <td>0-17</td>\n",
       "      <td>10</td>\n",
       "      <td>A</td>\n",
       "      <td>2</td>\n",
       "      <td>0</td>\n",
       "      <td>1</td>\n",
       "      <td>6.0</td>\n",
       "      <td>14.0</td>\n",
       "      <td>15200</td>\n",
       "    </tr>\n",
       "    <tr>\n",
       "      <th>2</th>\n",
       "      <td>1000001</td>\n",
       "      <td>P00087842</td>\n",
       "      <td>F</td>\n",
       "      <td>0-17</td>\n",
       "      <td>10</td>\n",
       "      <td>A</td>\n",
       "      <td>2</td>\n",
       "      <td>0</td>\n",
       "      <td>12</td>\n",
       "      <td>NaN</td>\n",
       "      <td>NaN</td>\n",
       "      <td>1422</td>\n",
       "    </tr>\n",
       "    <tr>\n",
       "      <th>3</th>\n",
       "      <td>1000001</td>\n",
       "      <td>P00085442</td>\n",
       "      <td>F</td>\n",
       "      <td>0-17</td>\n",
       "      <td>10</td>\n",
       "      <td>A</td>\n",
       "      <td>2</td>\n",
       "      <td>0</td>\n",
       "      <td>12</td>\n",
       "      <td>14.0</td>\n",
       "      <td>NaN</td>\n",
       "      <td>1057</td>\n",
       "    </tr>\n",
       "    <tr>\n",
       "      <th>4</th>\n",
       "      <td>1000002</td>\n",
       "      <td>P00285442</td>\n",
       "      <td>M</td>\n",
       "      <td>55+</td>\n",
       "      <td>16</td>\n",
       "      <td>C</td>\n",
       "      <td>4+</td>\n",
       "      <td>0</td>\n",
       "      <td>8</td>\n",
       "      <td>NaN</td>\n",
       "      <td>NaN</td>\n",
       "      <td>7969</td>\n",
       "    </tr>\n",
       "  </tbody>\n",
       "</table>\n",
       "</div>"
      ],
      "text/plain": [
       "   User_ID Product_ID Gender   Age  Occupation City_Category  \\\n",
       "0  1000001  P00069042      F  0-17          10             A   \n",
       "1  1000001  P00248942      F  0-17          10             A   \n",
       "2  1000001  P00087842      F  0-17          10             A   \n",
       "3  1000001  P00085442      F  0-17          10             A   \n",
       "4  1000002  P00285442      M   55+          16             C   \n",
       "\n",
       "  Stay_In_Current_City_Years  Marital_Status  Product_Category_1  \\\n",
       "0                          2               0                   3   \n",
       "1                          2               0                   1   \n",
       "2                          2               0                  12   \n",
       "3                          2               0                  12   \n",
       "4                         4+               0                   8   \n",
       "\n",
       "   Product_Category_2  Product_Category_3  Purchase  \n",
       "0                 NaN                 NaN      8370  \n",
       "1                 6.0                14.0     15200  \n",
       "2                 NaN                 NaN      1422  \n",
       "3                14.0                 NaN      1057  \n",
       "4                 NaN                 NaN      7969  "
      ]
     },
     "execution_count": 78,
     "metadata": {},
     "output_type": "execute_result"
    }
   ],
   "source": [
    "data.head()"
   ]
  },
  {
   "cell_type": "code",
   "execution_count": 79,
   "metadata": {},
   "outputs": [
    {
     "name": "stdout",
     "output_type": "stream",
     "text": [
      "<class 'pandas.core.frame.DataFrame'>\n",
      "RangeIndex: 550068 entries, 0 to 550067\n",
      "Data columns (total 12 columns):\n",
      " #   Column                      Non-Null Count   Dtype  \n",
      "---  ------                      --------------   -----  \n",
      " 0   User_ID                     550068 non-null  int64  \n",
      " 1   Product_ID                  550068 non-null  object \n",
      " 2   Gender                      550068 non-null  object \n",
      " 3   Age                         550068 non-null  object \n",
      " 4   Occupation                  550068 non-null  int64  \n",
      " 5   City_Category               550068 non-null  object \n",
      " 6   Stay_In_Current_City_Years  550068 non-null  object \n",
      " 7   Marital_Status              550068 non-null  int64  \n",
      " 8   Product_Category_1          550068 non-null  int64  \n",
      " 9   Product_Category_2          376430 non-null  float64\n",
      " 10  Product_Category_3          166821 non-null  float64\n",
      " 11  Purchase                    550068 non-null  int64  \n",
      "dtypes: float64(2), int64(5), object(5)\n",
      "memory usage: 50.4+ MB\n"
     ]
    }
   ],
   "source": [
    "data.info()"
   ]
  },
  {
   "cell_type": "code",
   "execution_count": 80,
   "metadata": {},
   "outputs": [
    {
     "data": {
      "text/plain": [
       "0"
      ]
     },
     "execution_count": 80,
     "metadata": {},
     "output_type": "execute_result"
    }
   ],
   "source": [
    "data.duplicated().sum() "
   ]
  },
  {
   "cell_type": "code",
   "execution_count": 81,
   "metadata": {},
   "outputs": [
    {
     "data": {
      "text/plain": [
       "User_ID                            0\n",
       "Product_ID                         0\n",
       "Gender                             0\n",
       "Age                                0\n",
       "Occupation                         0\n",
       "City_Category                      0\n",
       "Stay_In_Current_City_Years         0\n",
       "Marital_Status                     0\n",
       "Product_Category_1                 0\n",
       "Product_Category_2            173638\n",
       "Product_Category_3            383247\n",
       "Purchase                           0\n",
       "dtype: int64"
      ]
     },
     "execution_count": 81,
     "metadata": {},
     "output_type": "execute_result"
    }
   ],
   "source": [
    "data.isnull().sum()"
   ]
  },
  {
   "cell_type": "code",
   "execution_count": 82,
   "metadata": {},
   "outputs": [
    {
     "data": {
      "text/plain": [
       "User_ID                            0\n",
       "Product_ID                         0\n",
       "Gender                             0\n",
       "Age                                0\n",
       "Occupation                         0\n",
       "City_Category                      0\n",
       "Stay_In_Current_City_Years         0\n",
       "Marital_Status                     0\n",
       "Product_Category_1                 0\n",
       "Product_Category_2            173638\n",
       "Product_Category_3            383247\n",
       "Purchase                           0\n",
       "dtype: int64"
      ]
     },
     "execution_count": 82,
     "metadata": {},
     "output_type": "execute_result"
    }
   ],
   "source": [
    "data.isna().sum() #encoded as na"
   ]
  },
  {
   "cell_type": "code",
   "execution_count": 83,
   "metadata": {},
   "outputs": [],
   "source": [
    "#data = data.fillna(method = 'bfill')\n",
    "data = data.dropna()"
   ]
  },
  {
   "cell_type": "code",
   "execution_count": 84,
   "metadata": {},
   "outputs": [
    {
     "data": {
      "text/plain": [
       "User_ID                       0\n",
       "Product_ID                    0\n",
       "Gender                        0\n",
       "Age                           0\n",
       "Occupation                    0\n",
       "City_Category                 0\n",
       "Stay_In_Current_City_Years    0\n",
       "Marital_Status                0\n",
       "Product_Category_1            0\n",
       "Product_Category_2            0\n",
       "Product_Category_3            0\n",
       "Purchase                      0\n",
       "dtype: int64"
      ]
     },
     "execution_count": 84,
     "metadata": {},
     "output_type": "execute_result"
    }
   ],
   "source": [
    "data.isna().sum()"
   ]
  },
  {
   "cell_type": "code",
   "execution_count": 85,
   "metadata": {},
   "outputs": [
    {
     "data": {
      "text/html": [
       "<div>\n",
       "<style scoped>\n",
       "    .dataframe tbody tr th:only-of-type {\n",
       "        vertical-align: middle;\n",
       "    }\n",
       "\n",
       "    .dataframe tbody tr th {\n",
       "        vertical-align: top;\n",
       "    }\n",
       "\n",
       "    .dataframe thead th {\n",
       "        text-align: right;\n",
       "    }\n",
       "</style>\n",
       "<table border=\"1\" class=\"dataframe\">\n",
       "  <thead>\n",
       "    <tr style=\"text-align: right;\">\n",
       "      <th></th>\n",
       "      <th>User_ID</th>\n",
       "      <th>Occupation</th>\n",
       "      <th>Marital_Status</th>\n",
       "      <th>Product_Category_1</th>\n",
       "      <th>Product_Category_2</th>\n",
       "      <th>Product_Category_3</th>\n",
       "      <th>Purchase</th>\n",
       "    </tr>\n",
       "  </thead>\n",
       "  <tbody>\n",
       "    <tr>\n",
       "      <th>count</th>\n",
       "      <td>1.668210e+05</td>\n",
       "      <td>166821.000000</td>\n",
       "      <td>166821.000000</td>\n",
       "      <td>166821.000000</td>\n",
       "      <td>166821.000000</td>\n",
       "      <td>166821.000000</td>\n",
       "      <td>166821.000000</td>\n",
       "    </tr>\n",
       "    <tr>\n",
       "      <th>mean</th>\n",
       "      <td>1.003037e+06</td>\n",
       "      <td>8.178886</td>\n",
       "      <td>0.402839</td>\n",
       "      <td>2.742766</td>\n",
       "      <td>6.896871</td>\n",
       "      <td>12.668243</td>\n",
       "      <td>11658.114980</td>\n",
       "    </tr>\n",
       "    <tr>\n",
       "      <th>std</th>\n",
       "      <td>1.732907e+03</td>\n",
       "      <td>6.487522</td>\n",
       "      <td>0.490470</td>\n",
       "      <td>2.573969</td>\n",
       "      <td>4.500288</td>\n",
       "      <td>4.125338</td>\n",
       "      <td>5082.287959</td>\n",
       "    </tr>\n",
       "    <tr>\n",
       "      <th>min</th>\n",
       "      <td>1.000001e+06</td>\n",
       "      <td>0.000000</td>\n",
       "      <td>0.000000</td>\n",
       "      <td>1.000000</td>\n",
       "      <td>2.000000</td>\n",
       "      <td>3.000000</td>\n",
       "      <td>185.000000</td>\n",
       "    </tr>\n",
       "    <tr>\n",
       "      <th>25%</th>\n",
       "      <td>1.001523e+06</td>\n",
       "      <td>2.000000</td>\n",
       "      <td>0.000000</td>\n",
       "      <td>1.000000</td>\n",
       "      <td>2.000000</td>\n",
       "      <td>9.000000</td>\n",
       "      <td>7869.000000</td>\n",
       "    </tr>\n",
       "    <tr>\n",
       "      <th>50%</th>\n",
       "      <td>1.003101e+06</td>\n",
       "      <td>7.000000</td>\n",
       "      <td>0.000000</td>\n",
       "      <td>1.000000</td>\n",
       "      <td>6.000000</td>\n",
       "      <td>14.000000</td>\n",
       "      <td>11756.000000</td>\n",
       "    </tr>\n",
       "    <tr>\n",
       "      <th>75%</th>\n",
       "      <td>1.004480e+06</td>\n",
       "      <td>14.000000</td>\n",
       "      <td>1.000000</td>\n",
       "      <td>4.000000</td>\n",
       "      <td>10.000000</td>\n",
       "      <td>16.000000</td>\n",
       "      <td>15626.000000</td>\n",
       "    </tr>\n",
       "    <tr>\n",
       "      <th>max</th>\n",
       "      <td>1.006040e+06</td>\n",
       "      <td>20.000000</td>\n",
       "      <td>1.000000</td>\n",
       "      <td>15.000000</td>\n",
       "      <td>16.000000</td>\n",
       "      <td>18.000000</td>\n",
       "      <td>23959.000000</td>\n",
       "    </tr>\n",
       "  </tbody>\n",
       "</table>\n",
       "</div>"
      ],
      "text/plain": [
       "            User_ID     Occupation  Marital_Status  Product_Category_1  \\\n",
       "count  1.668210e+05  166821.000000   166821.000000       166821.000000   \n",
       "mean   1.003037e+06       8.178886        0.402839            2.742766   \n",
       "std    1.732907e+03       6.487522        0.490470            2.573969   \n",
       "min    1.000001e+06       0.000000        0.000000            1.000000   \n",
       "25%    1.001523e+06       2.000000        0.000000            1.000000   \n",
       "50%    1.003101e+06       7.000000        0.000000            1.000000   \n",
       "75%    1.004480e+06      14.000000        1.000000            4.000000   \n",
       "max    1.006040e+06      20.000000        1.000000           15.000000   \n",
       "\n",
       "       Product_Category_2  Product_Category_3       Purchase  \n",
       "count       166821.000000       166821.000000  166821.000000  \n",
       "mean             6.896871           12.668243   11658.114980  \n",
       "std              4.500288            4.125338    5082.287959  \n",
       "min              2.000000            3.000000     185.000000  \n",
       "25%              2.000000            9.000000    7869.000000  \n",
       "50%              6.000000           14.000000   11756.000000  \n",
       "75%             10.000000           16.000000   15626.000000  \n",
       "max             16.000000           18.000000   23959.000000  "
      ]
     },
     "execution_count": 85,
     "metadata": {},
     "output_type": "execute_result"
    }
   ],
   "source": [
    "data.describe()"
   ]
  },
  {
   "cell_type": "markdown",
   "metadata": {},
   "source": [
    "## Describing the target variable 'Purchase'"
   ]
  },
  {
   "cell_type": "code",
   "execution_count": 86,
   "metadata": {},
   "outputs": [
    {
     "data": {
      "text/plain": [
       "count    166821.000000\n",
       "mean      11658.114980\n",
       "std        5082.287959\n",
       "min         185.000000\n",
       "25%        7869.000000\n",
       "50%       11756.000000\n",
       "75%       15626.000000\n",
       "max       23959.000000\n",
       "Name: Purchase, dtype: float64"
      ]
     },
     "metadata": {},
     "output_type": "display_data"
    }
   ],
   "source": [
    "purchase_describe = data['Purchase'].describe()\n",
    "display(purchase_describe)"
   ]
  },
  {
   "cell_type": "code",
   "execution_count": 87,
   "metadata": {},
   "outputs": [
    {
     "data": {
      "text/html": [
       "<div>\n",
       "<style scoped>\n",
       "    .dataframe tbody tr th:only-of-type {\n",
       "        vertical-align: middle;\n",
       "    }\n",
       "\n",
       "    .dataframe tbody tr th {\n",
       "        vertical-align: top;\n",
       "    }\n",
       "\n",
       "    .dataframe thead th {\n",
       "        text-align: right;\n",
       "    }\n",
       "</style>\n",
       "<table border=\"1\" class=\"dataframe\">\n",
       "  <thead>\n",
       "    <tr style=\"text-align: right;\">\n",
       "      <th></th>\n",
       "      <th>mean</th>\n",
       "      <th>min</th>\n",
       "      <th>25%</th>\n",
       "      <th>50%</th>\n",
       "      <th>75%</th>\n",
       "      <th>max</th>\n",
       "      <th>sum</th>\n",
       "      <th>mean_by_user</th>\n",
       "    </tr>\n",
       "  </thead>\n",
       "  <tbody>\n",
       "    <tr>\n",
       "      <th>Purchase</th>\n",
       "      <td>11658.11498</td>\n",
       "      <td>185.0</td>\n",
       "      <td>7869.0</td>\n",
       "      <td>11756.0</td>\n",
       "      <td>15626.0</td>\n",
       "      <td>23959.0</td>\n",
       "      <td>1.944818e+09</td>\n",
       "      <td>331314.889097</td>\n",
       "    </tr>\n",
       "  </tbody>\n",
       "</table>\n",
       "</div>"
      ],
      "text/plain": [
       "                 mean    min     25%      50%      75%      max           sum  \\\n",
       "Purchase  11658.11498  185.0  7869.0  11756.0  15626.0  23959.0  1.944818e+09   \n",
       "\n",
       "           mean_by_user  \n",
       "Purchase  331314.889097  "
      ]
     },
     "metadata": {},
     "output_type": "display_data"
    }
   ],
   "source": [
    "purchase_describe = data['Purchase'].describe()\n",
    "purchase_describe.loc['sum'] = data['Purchase'].sum()\n",
    "purchase_describe.loc['mean_by_user'] = data['Purchase'].sum() / data['User_ID'].nunique() #checking mean purchase amount by each user\n",
    "purchase_describe.drop(['count', 'std'], inplace=True)\n",
    "display(pd.DataFrame(purchase_describe).T)"
   ]
  },
  {
   "cell_type": "markdown",
   "metadata": {},
   "source": [
    "## Purchase boxplot"
   ]
  },
  {
   "cell_type": "code",
   "execution_count": 88,
   "metadata": {},
   "outputs": [
    {
     "data": {
      "image/png": "[encoded data removed]",
      "text/plain": [
       "<Figure size 432x288 with 1 Axes>"
      ]
     },
     "metadata": {},
     "output_type": "display_data"
    }
   ],
   "source": [
    "sns.boxplot(x='Purchase', \n",
    "                 data=data, \n",
    "                 width=0.4,\n",
    "                 palette=\"Blues\")\n",
    "plt.title(\"Purchase Boxplot\")\n",
    "plt.suptitle(\"\")\n",
    "plt.xlabel(\"Purchase Amount\")\n",
    "plt.show()"
   ]
  },
  {
   "cell_type": "markdown",
   "metadata": {},
   "source": [
    "## Describing product_ID, gender, age, occupation, city_category, marital status, product_category_1"
   ]
  },
  {
   "cell_type": "code",
   "execution_count": 89,
   "metadata": {},
   "outputs": [
    {
     "data": {
      "text/html": [
       "<div>\n",
       "<style scoped>\n",
       "    .dataframe tbody tr th:only-of-type {\n",
       "        vertical-align: middle;\n",
       "    }\n",
       "\n",
       "    .dataframe tbody tr th {\n",
       "        vertical-align: top;\n",
       "    }\n",
       "\n",
       "    .dataframe thead th {\n",
       "        text-align: right;\n",
       "    }\n",
       "</style>\n",
       "<table border=\"1\" class=\"dataframe\">\n",
       "  <thead>\n",
       "    <tr style=\"text-align: right;\">\n",
       "      <th></th>\n",
       "      <th>Product_ID</th>\n",
       "      <th>Gender</th>\n",
       "      <th>Age</th>\n",
       "      <th>Occupation</th>\n",
       "      <th>City_Category</th>\n",
       "      <th>Marital_Status</th>\n",
       "      <th>Product_Category_1</th>\n",
       "    </tr>\n",
       "  </thead>\n",
       "  <tbody>\n",
       "    <tr>\n",
       "      <th>count</th>\n",
       "      <td>166821</td>\n",
       "      <td>166821</td>\n",
       "      <td>166821</td>\n",
       "      <td>166821.000000</td>\n",
       "      <td>166821</td>\n",
       "      <td>166821.000000</td>\n",
       "      <td>166821.000000</td>\n",
       "    </tr>\n",
       "    <tr>\n",
       "      <th>unique</th>\n",
       "      <td>528</td>\n",
       "      <td>2</td>\n",
       "      <td>7</td>\n",
       "      <td>21.000000</td>\n",
       "      <td>3</td>\n",
       "      <td>2.000000</td>\n",
       "      <td>12.000000</td>\n",
       "    </tr>\n",
       "    <tr>\n",
       "      <th>top</th>\n",
       "      <td>P00025442</td>\n",
       "      <td>M</td>\n",
       "      <td>26-35</td>\n",
       "      <td>4.000000</td>\n",
       "      <td>B</td>\n",
       "      <td>0.000000</td>\n",
       "      <td>1.000000</td>\n",
       "    </tr>\n",
       "    <tr>\n",
       "      <th>freq</th>\n",
       "      <td>1615</td>\n",
       "      <td>129227</td>\n",
       "      <td>66942</td>\n",
       "      <td>22364.000000</td>\n",
       "      <td>69243</td>\n",
       "      <td>99619.000000</td>\n",
       "      <td>91142.000000</td>\n",
       "    </tr>\n",
       "    <tr>\n",
       "      <th>percent</th>\n",
       "      <td>0.968104</td>\n",
       "      <td>77.464468</td>\n",
       "      <td>40.128041</td>\n",
       "      <td>13.405986</td>\n",
       "      <td>41.507364</td>\n",
       "      <td>59.716103</td>\n",
       "      <td>54.634608</td>\n",
       "    </tr>\n",
       "  </tbody>\n",
       "</table>\n",
       "</div>"
      ],
      "text/plain": [
       "        Product_ID     Gender        Age     Occupation City_Category  \\\n",
       "count       166821     166821     166821  166821.000000        166821   \n",
       "unique         528          2          7      21.000000             3   \n",
       "top      P00025442          M      26-35       4.000000             B   \n",
       "freq          1615     129227      66942   22364.000000         69243   \n",
       "percent   0.968104  77.464468  40.128041      13.405986     41.507364   \n",
       "\n",
       "         Marital_Status  Product_Category_1  \n",
       "count     166821.000000       166821.000000  \n",
       "unique         2.000000           12.000000  \n",
       "top            0.000000            1.000000  \n",
       "freq       99619.000000        91142.000000  \n",
       "percent       59.716103           54.634608  "
      ]
     },
     "metadata": {},
     "output_type": "display_data"
    }
   ],
   "source": [
    "columns_describe = data[['Product_ID', 'Gender', 'Age', 'Occupation', 'City_Category', 'Marital_Status', 'Product_Category_1']].astype('object').describe()\n",
    "columns_describe.loc['percent'] = 100*columns_describe.loc['freq'] / columns_describe.loc['count']\n",
    "display(columns_describe)"
   ]
  },
  {
   "cell_type": "markdown",
   "metadata": {},
   "source": [
    "## Plotting number of transactions by age groups and mean purchase amount by age groups"
   ]
  },
  {
   "cell_type": "code",
   "execution_count": 90,
   "metadata": {},
   "outputs": [
    {
     "data": {
      "image/png": "[encoded data removed]",
      "text/plain": [
       "<Figure size 1152x576 with 2 Axes>"
      ]
     },
     "metadata": {},
     "output_type": "display_data"
    }
   ],
   "source": [
    "plt.figure(figsize=(16, 8))\n",
    "plt.subplot(121)\n",
    "sns.countplot(y='Age', data=data, order=sorted(data.Age.unique()))\n",
    "plt.title('Number of transactions by age group', size=14)\n",
    "plt.xlabel(\"\")\n",
    "plt.ylabel('Age Group', size=13)\n",
    "\n",
    "plt.subplot(122)\n",
    "age_groupby = data[['Age', 'Purchase']].groupby('Age', as_index=False).agg('mean')\n",
    "sns.barplot(y='Age', x='Purchase', data=age_groupby, order=sorted(data.Age.unique()))\n",
    "plt.title('Mean purchase amount by age group', size=14)\n",
    "plt.xlabel(\"\")\n",
    "plt.ylabel('Age Group', size=13)\n",
    "plt.show()"
   ]
  },
  {
   "cell_type": "markdown",
   "metadata": {},
   "source": [
    "## Displaying top five frequently purchased products by age groups"
   ]
  },
  {
   "cell_type": "code",
   "execution_count": 91,
   "metadata": {},
   "outputs": [],
   "source": [
    "color_mapping = {}\n",
    "def color(val):    \n",
    "    if val in color_mapping.keys():\n",
    "        color = color_mapping[val]\n",
    "    else:\n",
    "        r = lambda: random.randint(0,255)\n",
    "        color = 'rgba({},{},{},0.2)'.format(r(),r(),r())\n",
    "        color_mapping[val] = color\n",
    "    return 'background-color: %s' % color"
   ]
  },
  {
   "cell_type": "code",
   "execution_count": 92,
   "metadata": {},
   "outputs": [
    {
     "data": {
      "text/html": [
       "<style  type=\"text/css\" >\n",
       "#T_35aec_row0_col0{\n",
       "            background-color:  rgba(121,8,196,0.2);\n",
       "        }#T_35aec_row0_col1,#T_35aec_row1_col0,#T_35aec_row2_col2,#T_35aec_row2_col3{\n",
       "            background-color:  rgba(39,13,161,0.2);\n",
       "        }#T_35aec_row0_col2,#T_35aec_row1_col1,#T_35aec_row1_col3,#T_35aec_row1_col5{\n",
       "            background-color:  rgba(23,199,191,0.2);\n",
       "        }#T_35aec_row0_col3,#T_35aec_row0_col5,#T_35aec_row1_col2,#T_35aec_row1_col4,#T_35aec_row1_col6{\n",
       "            background-color:  rgba(73,144,48,0.2);\n",
       "        }#T_35aec_row0_col4,#T_35aec_row3_col1{\n",
       "            background-color:  rgba(15,183,134,0.2);\n",
       "        }#T_35aec_row0_col6,#T_35aec_row4_col5{\n",
       "            background-color:  rgba(94,73,79,0.2);\n",
       "        }#T_35aec_row2_col0{\n",
       "            background-color:  rgba(247,235,15,0.2);\n",
       "        }#T_35aec_row2_col1{\n",
       "            background-color:  rgba(251,16,155,0.2);\n",
       "        }#T_35aec_row2_col4,#T_35aec_row2_col6,#T_35aec_row4_col2{\n",
       "            background-color:  rgba(90,190,158,0.2);\n",
       "        }#T_35aec_row2_col5,#T_35aec_row3_col4,#T_35aec_row3_col6,#T_35aec_row4_col3{\n",
       "            background-color:  rgba(253,33,194,0.2);\n",
       "        }#T_35aec_row3_col0,#T_35aec_row4_col1{\n",
       "            background-color:  rgba(61,23,190,0.2);\n",
       "        }#T_35aec_row3_col2,#T_35aec_row3_col3{\n",
       "            background-color:  rgba(112,73,141,0.2);\n",
       "        }#T_35aec_row3_col5,#T_35aec_row4_col6{\n",
       "            background-color:  rgba(56,113,24,0.2);\n",
       "        }#T_35aec_row4_col0{\n",
       "            background-color:  rgba(212,233,142,0.2);\n",
       "        }#T_35aec_row4_col4{\n",
       "            background-color:  rgba(25,182,182,0.2);\n",
       "        }</style><table id=\"T_35aec_\" ><thead>    <tr>        <th class=\"blank level0\" ></th>        <th class=\"col_heading level0 col0\" >0-17</th>        <th class=\"col_heading level0 col1\" >18-25</th>        <th class=\"col_heading level0 col2\" >26-35</th>        <th class=\"col_heading level0 col3\" >36-45</th>        <th class=\"col_heading level0 col4\" >46-50</th>        <th class=\"col_heading level0 col5\" >51-55</th>        <th class=\"col_heading level0 col6\" >55+</th>    </tr></thead><tbody>\n",
       "                <tr>\n",
       "                        <th id=\"T_35aec_level0_row0\" class=\"row_heading level0 row0\" >1)</th>\n",
       "                        <td id=\"T_35aec_row0_col0\" class=\"data row0 col0\" >P00145042</td>\n",
       "                        <td id=\"T_35aec_row0_col1\" class=\"data row0 col1\" >P00112142</td>\n",
       "                        <td id=\"T_35aec_row0_col2\" class=\"data row0 col2\" >P00110742</td>\n",
       "                        <td id=\"T_35aec_row0_col3\" class=\"data row0 col3\" >P00025442</td>\n",
       "                        <td id=\"T_35aec_row0_col4\" class=\"data row0 col4\" >P00046742</td>\n",
       "                        <td id=\"T_35aec_row0_col5\" class=\"data row0 col5\" >P00025442</td>\n",
       "                        <td id=\"T_35aec_row0_col6\" class=\"data row0 col6\" >P00080342</td>\n",
       "            </tr>\n",
       "            <tr>\n",
       "                        <th id=\"T_35aec_level0_row1\" class=\"row_heading level0 row1\" >2)</th>\n",
       "                        <td id=\"T_35aec_row1_col0\" class=\"data row1 col0\" >P00112142</td>\n",
       "                        <td id=\"T_35aec_row1_col1\" class=\"data row1 col1\" >P00110742</td>\n",
       "                        <td id=\"T_35aec_row1_col2\" class=\"data row1 col2\" >P00025442</td>\n",
       "                        <td id=\"T_35aec_row1_col3\" class=\"data row1 col3\" >P00110742</td>\n",
       "                        <td id=\"T_35aec_row1_col4\" class=\"data row1 col4\" >P00025442</td>\n",
       "                        <td id=\"T_35aec_row1_col5\" class=\"data row1 col5\" >P00110742</td>\n",
       "                        <td id=\"T_35aec_row1_col6\" class=\"data row1 col6\" >P00025442</td>\n",
       "            </tr>\n",
       "            <tr>\n",
       "                        <th id=\"T_35aec_level0_row2\" class=\"row_heading level0 row2\" >3)</th>\n",
       "                        <td id=\"T_35aec_row2_col0\" class=\"data row2 col0\" >P00034742</td>\n",
       "                        <td id=\"T_35aec_row2_col1\" class=\"data row2 col1\" >P00237542</td>\n",
       "                        <td id=\"T_35aec_row2_col2\" class=\"data row2 col2\" >P00112142</td>\n",
       "                        <td id=\"T_35aec_row2_col3\" class=\"data row2 col3\" >P00112142</td>\n",
       "                        <td id=\"T_35aec_row2_col4\" class=\"data row2 col4\" >P00184942</td>\n",
       "                        <td id=\"T_35aec_row2_col5\" class=\"data row2 col5\" >P00059442</td>\n",
       "                        <td id=\"T_35aec_row2_col6\" class=\"data row2 col6\" >P00184942</td>\n",
       "            </tr>\n",
       "            <tr>\n",
       "                        <th id=\"T_35aec_level0_row3\" class=\"row_heading level0 row3\" >4)</th>\n",
       "                        <td id=\"T_35aec_row3_col0\" class=\"data row3 col0\" >P00242742</td>\n",
       "                        <td id=\"T_35aec_row3_col1\" class=\"data row3 col1\" >P00046742</td>\n",
       "                        <td id=\"T_35aec_row3_col2\" class=\"data row3 col2\" >P00057642</td>\n",
       "                        <td id=\"T_35aec_row3_col3\" class=\"data row3 col3\" >P00057642</td>\n",
       "                        <td id=\"T_35aec_row3_col4\" class=\"data row3 col4\" >P00059442</td>\n",
       "                        <td id=\"T_35aec_row3_col5\" class=\"data row3 col5\" >P00010742</td>\n",
       "                        <td id=\"T_35aec_row3_col6\" class=\"data row3 col6\" >P00059442</td>\n",
       "            </tr>\n",
       "            <tr>\n",
       "                        <th id=\"T_35aec_level0_row4\" class=\"row_heading level0 row4\" >5)</th>\n",
       "                        <td id=\"T_35aec_row4_col0\" class=\"data row4 col0\" >P00000142</td>\n",
       "                        <td id=\"T_35aec_row4_col1\" class=\"data row4 col1\" >P00242742</td>\n",
       "                        <td id=\"T_35aec_row4_col2\" class=\"data row4 col2\" >P00184942</td>\n",
       "                        <td id=\"T_35aec_row4_col3\" class=\"data row4 col3\" >P00059442</td>\n",
       "                        <td id=\"T_35aec_row4_col4\" class=\"data row4 col4\" >P00102642</td>\n",
       "                        <td id=\"T_35aec_row4_col5\" class=\"data row4 col5\" >P00080342</td>\n",
       "                        <td id=\"T_35aec_row4_col6\" class=\"data row4 col6\" >P00010742</td>\n",
       "            </tr>\n",
       "    </tbody></table>"
      ],
      "text/plain": [
       "<pandas.io.formats.style.Styler at 0x7fabd8439910>"
      ]
     },
     "metadata": {},
     "output_type": "display_data"
    }
   ],
   "source": [
    "age_product_groupby = data[['Age', 'Product_ID', 'Purchase']].groupby(['Age', 'Product_ID']).agg('count').rename(columns={'Purchase': 'count'})\n",
    "age_product_groupby.sort_values('count', inplace=True, ascending=False)\n",
    "age = sorted(data.Age.unique())\n",
    "result = pd.DataFrame({x: list(age_product_groupby.loc[x].index)[:5] for x in age}, index=['{})'.format(x) for x in range(1,6)])\n",
    "display(result.style.applymap(color))"
   ]
  },
  {
   "cell_type": "markdown",
   "metadata": {},
   "source": [
    "## Displaying top five frequently purchased products by occupation"
   ]
  },
  {
   "cell_type": "code",
   "execution_count": 93,
   "metadata": {},
   "outputs": [
    {
     "data": {
      "text/html": [
       "<style  type=\"text/css\" >\n",
       "#T_1c2e7_row0_col0,#T_1c2e7_row0_col1,#T_1c2e7_row0_col4,#T_1c2e7_row0_col6,#T_1c2e7_row1_col7,#T_1c2e7_row1_col15,#T_1c2e7_row1_col20,#T_1c2e7_row2_col3,#T_1c2e7_row2_col5,#T_1c2e7_row3_col14,#T_1c2e7_row3_col16,#T_1c2e7_row3_col17,#T_1c2e7_row4_col2{\n",
       "            background-color:  rgba(23,199,191,0.2);\n",
       "        }#T_1c2e7_row0_col2,#T_1c2e7_row0_col3,#T_1c2e7_row0_col7,#T_1c2e7_row0_col11,#T_1c2e7_row0_col15,#T_1c2e7_row1_col0,#T_1c2e7_row1_col1,#T_1c2e7_row1_col14,#T_1c2e7_row1_col16,#T_1c2e7_row1_col17,#T_1c2e7_row2_col4,#T_1c2e7_row2_col12,#T_1c2e7_row2_col20,#T_1c2e7_row3_col6,#T_1c2e7_row3_col10,#T_1c2e7_row4_col5,#T_1c2e7_row4_col19{\n",
       "            background-color:  rgba(73,144,48,0.2);\n",
       "        }#T_1c2e7_row0_col5,#T_1c2e7_row2_col8{\n",
       "            background-color:  rgba(209,210,68,0.2);\n",
       "        }#T_1c2e7_row0_col8,#T_1c2e7_row1_col4,#T_1c2e7_row1_col10,#T_1c2e7_row1_col12,#T_1c2e7_row2_col6,#T_1c2e7_row2_col7,#T_1c2e7_row2_col11,#T_1c2e7_row2_col15,#T_1c2e7_row2_col17,#T_1c2e7_row3_col0,#T_1c2e7_row3_col19,#T_1c2e7_row4_col1{\n",
       "            background-color:  rgba(39,13,161,0.2);\n",
       "        }#T_1c2e7_row0_col9,#T_1c2e7_row2_col16{\n",
       "            background-color:  rgba(247,235,15,0.2);\n",
       "        }#T_1c2e7_row0_col10,#T_1c2e7_row2_col19,#T_1c2e7_row3_col9,#T_1c2e7_row4_col16{\n",
       "            background-color:  rgba(121,8,196,0.2);\n",
       "        }#T_1c2e7_row0_col12,#T_1c2e7_row0_col17,#T_1c2e7_row2_col0,#T_1c2e7_row2_col18,#T_1c2e7_row3_col5,#T_1c2e7_row4_col3,#T_1c2e7_row4_col15{\n",
       "            background-color:  rgba(112,73,141,0.2);\n",
       "        }#T_1c2e7_row0_col13,#T_1c2e7_row0_col18,#T_1c2e7_row1_col6{\n",
       "            background-color:  rgba(56,113,24,0.2);\n",
       "        }#T_1c2e7_row0_col14,#T_1c2e7_row3_col7,#T_1c2e7_row3_col13,#T_1c2e7_row3_col18,#T_1c2e7_row4_col0,#T_1c2e7_row4_col4,#T_1c2e7_row4_col6{\n",
       "            background-color:  rgba(90,190,158,0.2);\n",
       "        }#T_1c2e7_row0_col16,#T_1c2e7_row2_col1,#T_1c2e7_row4_col7,#T_1c2e7_row4_col18{\n",
       "            background-color:  rgba(15,183,134,0.2);\n",
       "        }#T_1c2e7_row0_col19,#T_1c2e7_row2_col14,#T_1c2e7_row3_col4,#T_1c2e7_row3_col12,#T_1c2e7_row4_col10,#T_1c2e7_row4_col17{\n",
       "            background-color:  rgba(251,16,155,0.2);\n",
       "        }#T_1c2e7_row0_col20,#T_1c2e7_row1_col11,#T_1c2e7_row1_col19,#T_1c2e7_row2_col2,#T_1c2e7_row3_col1,#T_1c2e7_row3_col3,#T_1c2e7_row3_col15,#T_1c2e7_row4_col9{\n",
       "            background-color:  rgba(253,33,194,0.2);\n",
       "        }#T_1c2e7_row1_col2,#T_1c2e7_row1_col3,#T_1c2e7_row3_col20{\n",
       "            background-color:  rgba(75,106,70,0.2);\n",
       "        }#T_1c2e7_row1_col5{\n",
       "            background-color:  rgba(251,31,120,0.2);\n",
       "        }#T_1c2e7_row1_col8,#T_1c2e7_row2_col10,#T_1c2e7_row4_col12{\n",
       "            background-color:  rgba(61,23,190,0.2);\n",
       "        }#T_1c2e7_row1_col9{\n",
       "            background-color:  rgba(212,233,142,0.2);\n",
       "        }#T_1c2e7_row1_col13,#T_1c2e7_row1_col18{\n",
       "            background-color:  rgba(94,73,79,0.2);\n",
       "        }#T_1c2e7_row2_col9,#T_1c2e7_row3_col2,#T_1c2e7_row4_col8,#T_1c2e7_row4_col11{\n",
       "            background-color:  rgba(25,182,182,0.2);\n",
       "        }#T_1c2e7_row2_col13{\n",
       "            background-color:  rgba(105,172,179,0.2);\n",
       "        }#T_1c2e7_row3_col8{\n",
       "            background-color:  rgba(106,223,162,0.2);\n",
       "        }#T_1c2e7_row3_col11,#T_1c2e7_row4_col14,#T_1c2e7_row4_col20{\n",
       "            background-color:  rgba(131,78,181,0.2);\n",
       "        }#T_1c2e7_row4_col13{\n",
       "            background-color:  rgba(236,68,111,0.2);\n",
       "        }</style><table id=\"T_1c2e7_\" ><thead>    <tr>        <th class=\"blank level0\" ></th>        <th class=\"col_heading level0 col0\" >0</th>        <th class=\"col_heading level0 col1\" >1</th>        <th class=\"col_heading level0 col2\" >2</th>        <th class=\"col_heading level0 col3\" >3</th>        <th class=\"col_heading level0 col4\" >4</th>        <th class=\"col_heading level0 col5\" >5</th>        <th class=\"col_heading level0 col6\" >6</th>        <th class=\"col_heading level0 col7\" >7</th>        <th class=\"col_heading level0 col8\" >8</th>        <th class=\"col_heading level0 col9\" >9</th>        <th class=\"col_heading level0 col10\" >10</th>        <th class=\"col_heading level0 col11\" >11</th>        <th class=\"col_heading level0 col12\" >12</th>        <th class=\"col_heading level0 col13\" >13</th>        <th class=\"col_heading level0 col14\" >14</th>        <th class=\"col_heading level0 col15\" >15</th>        <th class=\"col_heading level0 col16\" >16</th>        <th class=\"col_heading level0 col17\" >17</th>        <th class=\"col_heading level0 col18\" >18</th>        <th class=\"col_heading level0 col19\" >19</th>        <th class=\"col_heading level0 col20\" >20</th>    </tr></thead><tbody>\n",
       "                <tr>\n",
       "                        <th id=\"T_1c2e7_level0_row0\" class=\"row_heading level0 row0\" >1)</th>\n",
       "                        <td id=\"T_1c2e7_row0_col0\" class=\"data row0 col0\" >P00110742</td>\n",
       "                        <td id=\"T_1c2e7_row0_col1\" class=\"data row0 col1\" >P00110742</td>\n",
       "                        <td id=\"T_1c2e7_row0_col2\" class=\"data row0 col2\" >P00025442</td>\n",
       "                        <td id=\"T_1c2e7_row0_col3\" class=\"data row0 col3\" >P00025442</td>\n",
       "                        <td id=\"T_1c2e7_row0_col4\" class=\"data row0 col4\" >P00110742</td>\n",
       "                        <td id=\"T_1c2e7_row0_col5\" class=\"data row0 col5\" >P00114942</td>\n",
       "                        <td id=\"T_1c2e7_row0_col6\" class=\"data row0 col6\" >P00110742</td>\n",
       "                        <td id=\"T_1c2e7_row0_col7\" class=\"data row0 col7\" >P00025442</td>\n",
       "                        <td id=\"T_1c2e7_row0_col8\" class=\"data row0 col8\" >P00112142</td>\n",
       "                        <td id=\"T_1c2e7_row0_col9\" class=\"data row0 col9\" >P00034742</td>\n",
       "                        <td id=\"T_1c2e7_row0_col10\" class=\"data row0 col10\" >P00145042</td>\n",
       "                        <td id=\"T_1c2e7_row0_col11\" class=\"data row0 col11\" >P00025442</td>\n",
       "                        <td id=\"T_1c2e7_row0_col12\" class=\"data row0 col12\" >P00057642</td>\n",
       "                        <td id=\"T_1c2e7_row0_col13\" class=\"data row0 col13\" >P00010742</td>\n",
       "                        <td id=\"T_1c2e7_row0_col14\" class=\"data row0 col14\" >P00184942</td>\n",
       "                        <td id=\"T_1c2e7_row0_col15\" class=\"data row0 col15\" >P00025442</td>\n",
       "                        <td id=\"T_1c2e7_row0_col16\" class=\"data row0 col16\" >P00046742</td>\n",
       "                        <td id=\"T_1c2e7_row0_col17\" class=\"data row0 col17\" >P00057642</td>\n",
       "                        <td id=\"T_1c2e7_row0_col18\" class=\"data row0 col18\" >P00010742</td>\n",
       "                        <td id=\"T_1c2e7_row0_col19\" class=\"data row0 col19\" >P00237542</td>\n",
       "                        <td id=\"T_1c2e7_row0_col20\" class=\"data row0 col20\" >P00059442</td>\n",
       "            </tr>\n",
       "            <tr>\n",
       "                        <th id=\"T_1c2e7_level0_row1\" class=\"row_heading level0 row1\" >2)</th>\n",
       "                        <td id=\"T_1c2e7_row1_col0\" class=\"data row1 col0\" >P00025442</td>\n",
       "                        <td id=\"T_1c2e7_row1_col1\" class=\"data row1 col1\" >P00025442</td>\n",
       "                        <td id=\"T_1c2e7_row1_col2\" class=\"data row1 col2\" >P00110842</td>\n",
       "                        <td id=\"T_1c2e7_row1_col3\" class=\"data row1 col3\" >P00110842</td>\n",
       "                        <td id=\"T_1c2e7_row1_col4\" class=\"data row1 col4\" >P00112142</td>\n",
       "                        <td id=\"T_1c2e7_row1_col5\" class=\"data row1 col5\" >P00112542</td>\n",
       "                        <td id=\"T_1c2e7_row1_col6\" class=\"data row1 col6\" >P00010742</td>\n",
       "                        <td id=\"T_1c2e7_row1_col7\" class=\"data row1 col7\" >P00110742</td>\n",
       "                        <td id=\"T_1c2e7_row1_col8\" class=\"data row1 col8\" >P00242742</td>\n",
       "                        <td id=\"T_1c2e7_row1_col9\" class=\"data row1 col9\" >P00000142</td>\n",
       "                        <td id=\"T_1c2e7_row1_col10\" class=\"data row1 col10\" >P00112142</td>\n",
       "                        <td id=\"T_1c2e7_row1_col11\" class=\"data row1 col11\" >P00059442</td>\n",
       "                        <td id=\"T_1c2e7_row1_col12\" class=\"data row1 col12\" >P00112142</td>\n",
       "                        <td id=\"T_1c2e7_row1_col13\" class=\"data row1 col13\" >P00080342</td>\n",
       "                        <td id=\"T_1c2e7_row1_col14\" class=\"data row1 col14\" >P00025442</td>\n",
       "                        <td id=\"T_1c2e7_row1_col15\" class=\"data row1 col15\" >P00110742</td>\n",
       "                        <td id=\"T_1c2e7_row1_col16\" class=\"data row1 col16\" >P00025442</td>\n",
       "                        <td id=\"T_1c2e7_row1_col17\" class=\"data row1 col17\" >P00025442</td>\n",
       "                        <td id=\"T_1c2e7_row1_col18\" class=\"data row1 col18\" >P00080342</td>\n",
       "                        <td id=\"T_1c2e7_row1_col19\" class=\"data row1 col19\" >P00059442</td>\n",
       "                        <td id=\"T_1c2e7_row1_col20\" class=\"data row1 col20\" >P00110742</td>\n",
       "            </tr>\n",
       "            <tr>\n",
       "                        <th id=\"T_1c2e7_level0_row2\" class=\"row_heading level0 row2\" >3)</th>\n",
       "                        <td id=\"T_1c2e7_row2_col0\" class=\"data row2 col0\" >P00057642</td>\n",
       "                        <td id=\"T_1c2e7_row2_col1\" class=\"data row2 col1\" >P00046742</td>\n",
       "                        <td id=\"T_1c2e7_row2_col2\" class=\"data row2 col2\" >P00059442</td>\n",
       "                        <td id=\"T_1c2e7_row2_col3\" class=\"data row2 col3\" >P00110742</td>\n",
       "                        <td id=\"T_1c2e7_row2_col4\" class=\"data row2 col4\" >P00025442</td>\n",
       "                        <td id=\"T_1c2e7_row2_col5\" class=\"data row2 col5\" >P00110742</td>\n",
       "                        <td id=\"T_1c2e7_row2_col6\" class=\"data row2 col6\" >P00112142</td>\n",
       "                        <td id=\"T_1c2e7_row2_col7\" class=\"data row2 col7\" >P00112142</td>\n",
       "                        <td id=\"T_1c2e7_row2_col8\" class=\"data row2 col8\" >P00114942</td>\n",
       "                        <td id=\"T_1c2e7_row2_col9\" class=\"data row2 col9\" >P00102642</td>\n",
       "                        <td id=\"T_1c2e7_row2_col10\" class=\"data row2 col10\" >P00242742</td>\n",
       "                        <td id=\"T_1c2e7_row2_col11\" class=\"data row2 col11\" >P00112142</td>\n",
       "                        <td id=\"T_1c2e7_row2_col12\" class=\"data row2 col12\" >P00025442</td>\n",
       "                        <td id=\"T_1c2e7_row2_col13\" class=\"data row2 col13\" >P00085242</td>\n",
       "                        <td id=\"T_1c2e7_row2_col14\" class=\"data row2 col14\" >P00237542</td>\n",
       "                        <td id=\"T_1c2e7_row2_col15\" class=\"data row2 col15\" >P00112142</td>\n",
       "                        <td id=\"T_1c2e7_row2_col16\" class=\"data row2 col16\" >P00034742</td>\n",
       "                        <td id=\"T_1c2e7_row2_col17\" class=\"data row2 col17\" >P00112142</td>\n",
       "                        <td id=\"T_1c2e7_row2_col18\" class=\"data row2 col18\" >P00057642</td>\n",
       "                        <td id=\"T_1c2e7_row2_col19\" class=\"data row2 col19\" >P00145042</td>\n",
       "                        <td id=\"T_1c2e7_row2_col20\" class=\"data row2 col20\" >P00025442</td>\n",
       "            </tr>\n",
       "            <tr>\n",
       "                        <th id=\"T_1c2e7_level0_row3\" class=\"row_heading level0 row3\" >4)</th>\n",
       "                        <td id=\"T_1c2e7_row3_col0\" class=\"data row3 col0\" >P00112142</td>\n",
       "                        <td id=\"T_1c2e7_row3_col1\" class=\"data row3 col1\" >P00059442</td>\n",
       "                        <td id=\"T_1c2e7_row3_col2\" class=\"data row3 col2\" >P00102642</td>\n",
       "                        <td id=\"T_1c2e7_row3_col3\" class=\"data row3 col3\" >P00059442</td>\n",
       "                        <td id=\"T_1c2e7_row3_col4\" class=\"data row3 col4\" >P00237542</td>\n",
       "                        <td id=\"T_1c2e7_row3_col5\" class=\"data row3 col5\" >P00057642</td>\n",
       "                        <td id=\"T_1c2e7_row3_col6\" class=\"data row3 col6\" >P00025442</td>\n",
       "                        <td id=\"T_1c2e7_row3_col7\" class=\"data row3 col7\" >P00184942</td>\n",
       "                        <td id=\"T_1c2e7_row3_col8\" class=\"data row3 col8\" >P00127842</td>\n",
       "                        <td id=\"T_1c2e7_row3_col9\" class=\"data row3 col9\" >P00145042</td>\n",
       "                        <td id=\"T_1c2e7_row3_col10\" class=\"data row3 col10\" >P00025442</td>\n",
       "                        <td id=\"T_1c2e7_row3_col11\" class=\"data row3 col11\" >P00148642</td>\n",
       "                        <td id=\"T_1c2e7_row3_col12\" class=\"data row3 col12\" >P00237542</td>\n",
       "                        <td id=\"T_1c2e7_row3_col13\" class=\"data row3 col13\" >P00184942</td>\n",
       "                        <td id=\"T_1c2e7_row3_col14\" class=\"data row3 col14\" >P00110742</td>\n",
       "                        <td id=\"T_1c2e7_row3_col15\" class=\"data row3 col15\" >P00059442</td>\n",
       "                        <td id=\"T_1c2e7_row3_col16\" class=\"data row3 col16\" >P00110742</td>\n",
       "                        <td id=\"T_1c2e7_row3_col17\" class=\"data row3 col17\" >P00110742</td>\n",
       "                        <td id=\"T_1c2e7_row3_col18\" class=\"data row3 col18\" >P00184942</td>\n",
       "                        <td id=\"T_1c2e7_row3_col19\" class=\"data row3 col19\" >P00112142</td>\n",
       "                        <td id=\"T_1c2e7_row3_col20\" class=\"data row3 col20\" >P00110842</td>\n",
       "            </tr>\n",
       "            <tr>\n",
       "                        <th id=\"T_1c2e7_level0_row4\" class=\"row_heading level0 row4\" >5)</th>\n",
       "                        <td id=\"T_1c2e7_row4_col0\" class=\"data row4 col0\" >P00184942</td>\n",
       "                        <td id=\"T_1c2e7_row4_col1\" class=\"data row4 col1\" >P00112142</td>\n",
       "                        <td id=\"T_1c2e7_row4_col2\" class=\"data row4 col2\" >P00110742</td>\n",
       "                        <td id=\"T_1c2e7_row4_col3\" class=\"data row4 col3\" >P00057642</td>\n",
       "                        <td id=\"T_1c2e7_row4_col4\" class=\"data row4 col4\" >P00184942</td>\n",
       "                        <td id=\"T_1c2e7_row4_col5\" class=\"data row4 col5\" >P00025442</td>\n",
       "                        <td id=\"T_1c2e7_row4_col6\" class=\"data row4 col6\" >P00184942</td>\n",
       "                        <td id=\"T_1c2e7_row4_col7\" class=\"data row4 col7\" >P00046742</td>\n",
       "                        <td id=\"T_1c2e7_row4_col8\" class=\"data row4 col8\" >P00102642</td>\n",
       "                        <td id=\"T_1c2e7_row4_col9\" class=\"data row4 col9\" >P00059442</td>\n",
       "                        <td id=\"T_1c2e7_row4_col10\" class=\"data row4 col10\" >P00237542</td>\n",
       "                        <td id=\"T_1c2e7_row4_col11\" class=\"data row4 col11\" >P00102642</td>\n",
       "                        <td id=\"T_1c2e7_row4_col12\" class=\"data row4 col12\" >P00242742</td>\n",
       "                        <td id=\"T_1c2e7_row4_col13\" class=\"data row4 col13\" >P00086442</td>\n",
       "                        <td id=\"T_1c2e7_row4_col14\" class=\"data row4 col14\" >P00148642</td>\n",
       "                        <td id=\"T_1c2e7_row4_col15\" class=\"data row4 col15\" >P00057642</td>\n",
       "                        <td id=\"T_1c2e7_row4_col16\" class=\"data row4 col16\" >P00145042</td>\n",
       "                        <td id=\"T_1c2e7_row4_col17\" class=\"data row4 col17\" >P00237542</td>\n",
       "                        <td id=\"T_1c2e7_row4_col18\" class=\"data row4 col18\" >P00046742</td>\n",
       "                        <td id=\"T_1c2e7_row4_col19\" class=\"data row4 col19\" >P00025442</td>\n",
       "                        <td id=\"T_1c2e7_row4_col20\" class=\"data row4 col20\" >P00148642</td>\n",
       "            </tr>\n",
       "    </tbody></table>"
      ],
      "text/plain": [
       "<pandas.io.formats.style.Styler at 0x7fabbd046340>"
      ]
     },
     "metadata": {},
     "output_type": "display_data"
    }
   ],
   "source": [
    "occupation_product_groupby = data[['Occupation', 'Product_ID', 'Purchase']].groupby(['Occupation', 'Product_ID']).agg('count').rename(columns={'Purchase': 'count'})\n",
    "occupation_product_groupby.sort_values('count', inplace=True, ascending=False)\n",
    "result = pd.DataFrame({x: list(occupation_product_groupby.loc[x].index)[:5] for x in range(21)}, index=['{})'.format(x) for x in range(1,6)])\n",
    "display(result.style.applymap(color))"
   ]
  },
  {
   "cell_type": "markdown",
   "metadata": {},
   "source": [
    "## Pie charts displaying number of transactions and sum of purchase amounts by gender"
   ]
  },
  {
   "cell_type": "code",
   "execution_count": 94,
   "metadata": {},
   "outputs": [],
   "source": [
    "gender_groupby = data[['Gender', 'Purchase']].groupby('Gender').agg(['count', 'sum'])\n",
    "parameters = {'labels': gender_groupby.index.map({'M': 'Male', 'F': 'Female'}),'autopct': '%1.2f%%','startangle': -30,'textprops': {'fontsize': 14},'explode': (0.05, 0),'shadow': True}"
   ]
  },
  {
   "cell_type": "code",
   "execution_count": 95,
   "metadata": {},
   "outputs": [
    {
     "data": {
      "image/png": "[encoded data removed]",
      "text/plain": [
       "<Figure size 1008x432 with 2 Axes>"
      ]
     },
     "metadata": {},
     "output_type": "display_data"
    }
   ],
   "source": [
    "plt.figure(figsize=(14, 6))\n",
    "plt.subplot(121)\n",
    "plt.pie(gender_groupby['Purchase']['count'],**parameters)\n",
    "plt.title('Number of transactions', size=16)\n",
    "plt.subplot(122)\n",
    "plt.pie(gender_groupby['Purchase']['sum'],**parameters)\n",
    "plt.title('Sum of purchase amounts', size=16)\n",
    "plt.show()"
   ]
  },
  {
   "cell_type": "markdown",
   "metadata": {},
   "source": [
    "## Bar plots for mean purchase amount by gender"
   ]
  },
  {
   "cell_type": "code",
   "execution_count": 96,
   "metadata": {},
   "outputs": [
    {
     "data": {
      "image/png": "[encoded data removed]",
      "text/plain": [
       "<Figure size 432x288 with 1 Axes>"
      ]
     },
     "metadata": {},
     "output_type": "display_data"
    }
   ],
   "source": [
    "gender_grouped = data[['Gender', 'Purchase']].groupby('Gender', as_index=False).agg('mean')\n",
    "sns.barplot(x='Gender', y='Purchase', data=gender_grouped)\n",
    "plt.ylabel(\"\")\n",
    "plt.xlabel(\"\")\n",
    "for x in plt.gca().spines.values():\n",
    "    x.set_visible(False)\n",
    "plt.title('Mean purchase amount by gender', size=15)\n",
    "plt.show()"
   ]
  },
  {
   "cell_type": "markdown",
   "metadata": {},
   "source": [
    "## Bar plot for number of transactions by city color coded by stay in current city and number of transactions by stay in crrent city years"
   ]
  },
  {
   "cell_type": "code",
   "execution_count": 97,
   "metadata": {},
   "outputs": [
    {
     "data": {
      "image/png": "[encoded data removed]",
      "text/plain": [
       "<Figure size 1152x504 with 2 Axes>"
      ]
     },
     "metadata": {},
     "output_type": "display_data"
    }
   ],
   "source": [
    "stay_years = [data[data.Stay_In_Current_City_Years == s]['City_Category'].value_counts(sort=False).iloc[::-1] for s in sorted(data.Stay_In_Current_City_Years.unique())]\n",
    "\n",
    "f, (axis1, axis2) = plt.subplots(1,2, gridspec_kw = {'width_ratios':[1, 1]})\n",
    "\n",
    "years = sorted(data.Stay_In_Current_City_Years.unique())\n",
    "pd.DataFrame(stay_years, index=years).T.plot.bar(stacked=True, width=0.4, ax=axis1,  rot=0, fontsize=11)\n",
    "axis1.set_xlabel('City Category', size=12)\n",
    "axis1.set_ylabel('Number of transactions', size=12)\n",
    "axis1.set_title('Number of transactions by city (separated by stay in current city)', size=14)\n",
    "\n",
    "sns.countplot(x='Stay_In_Current_City_Years', data=data, ax=axis2, order=years)\n",
    "axis2.set_title('Transactions by stability', size=12)\n",
    "axis2.set_ylabel(\"\")\n",
    "axis2.set_xlabel('Years in current city', size=12)\n",
    "\n",
    "plt.gcf().set_size_inches(16, 7)\n",
    "plt.show()"
   ]
  },
  {
   "cell_type": "markdown",
   "metadata": {},
   "source": [
    "## Stacked bar plot of count of different occupations color coded by gender"
   ]
  },
  {
   "cell_type": "code",
   "execution_count": 98,
   "metadata": {},
   "outputs": [
    {
     "data": {
      "image/png": "[encoded data removed]",
      "text/plain": [
       "<Figure size 864x288 with 1 Axes>"
      ]
     },
     "metadata": {},
     "output_type": "display_data"
    }
   ],
   "source": [
    "males = data[data.Gender == 'M']['Occupation'].value_counts(sort=False)\n",
    "females = data[data.Gender == 'F']['Occupation'].value_counts(sort=False)\n",
    "pd.DataFrame({'M': males, 'F': females}, index=range(0,21)).plot.bar(stacked=True)\n",
    "plt.gcf().set_size_inches(12, 4)\n",
    "plt.title(\"Count of different occupations (Separated by gender)\", size=14)\n",
    "plt.legend(loc=\"upper right\")\n",
    "plt.xlabel('Occupation label', size=12)\n",
    "plt.ylabel('Count', size=12)\n",
    "plt.show()"
   ]
  },
  {
   "cell_type": "markdown",
   "metadata": {},
   "source": [
    "## Marital status pie chart "
   ]
  },
  {
   "cell_type": "code",
   "execution_count": 99,
   "metadata": {},
   "outputs": [
    {
     "data": {
      "image/png": "[encoded data removed]",
      "text/plain": [
       "<Figure size 576x576 with 1 Axes>"
      ]
     },
     "metadata": {},
     "output_type": "display_data"
    }
   ],
   "source": [
    "values = data.Marital_Status.value_counts()\n",
    "fig, axis = plt.subplots(figsize=(8,8))\n",
    "\n",
    "size = 0.3\n",
    "cmap = plt.get_cmap(\"tab20c\")\n",
    "colors = cmap(np.arange(2)*4)\n",
    "\n",
    "axis.pie(values, radius=1, colors=colors,\n",
    "       wedgeprops=dict(width=size, edgecolor='w'), labels=['Single', 'Married'],\n",
    "       textprops={'fontsize': 15}, startangle=50)\n",
    "\n",
    "ax.set(aspect=\"equal\")\n",
    "plt.title('Marital Status', fontsize=16)\n",
    "plt.show()"
   ]
  },
  {
   "cell_type": "markdown",
   "metadata": {},
   "source": [
    "## Tables displaying top ten products, categories, users based on purchase amount"
   ]
  },
  {
   "cell_type": "code",
   "execution_count": 100,
   "metadata": {},
   "outputs": [],
   "source": [
    "column_names = ['Product_ID', 'Product_Category_1', 'User_ID']\n",
    "rename = ['Product', 'Category', 'User']\n",
    "results = []\n",
    "for column_name, new_name in zip(column_names, rename):\n",
    "    group = data[[column_name, 'Purchase']].groupby(column_name, as_index=False).agg('count')\n",
    "    result = group.sort_values('Purchase', ascending=False)[:10]\n",
    "    result.index = ['{})'.format(x) for x in range(1,11)]\n",
    "    results.append(result.rename(columns={column_name: new_name}))"
   ]
  },
  {
   "cell_type": "code",
   "execution_count": 101,
   "metadata": {},
   "outputs": [
    {
     "data": {
      "text/html": [
       "<table style=\"display:inline; padding-right: 3em !important;\" border=\"1\" class=\"dataframe\">\n",
       "  <thead>\n",
       "    <tr style=\"text-align: right;\">\n",
       "      <th></th>\n",
       "      <th>Product</th>\n",
       "      <th>Purchase</th>\n",
       "    </tr>\n",
       "  </thead>\n",
       "  <tbody>\n",
       "    <tr>\n",
       "      <th>1)</th>\n",
       "      <td>P00025442</td>\n",
       "      <td>1615</td>\n",
       "    </tr>\n",
       "    <tr>\n",
       "      <th>2)</th>\n",
       "      <td>P00110742</td>\n",
       "      <td>1612</td>\n",
       "    </tr>\n",
       "    <tr>\n",
       "      <th>3)</th>\n",
       "      <td>P00112142</td>\n",
       "      <td>1562</td>\n",
       "    </tr>\n",
       "    <tr>\n",
       "      <th>4)</th>\n",
       "      <td>P00057642</td>\n",
       "      <td>1470</td>\n",
       "    </tr>\n",
       "    <tr>\n",
       "      <th>5)</th>\n",
       "      <td>P00184942</td>\n",
       "      <td>1440</td>\n",
       "    </tr>\n",
       "    <tr>\n",
       "      <th>6)</th>\n",
       "      <td>P00046742</td>\n",
       "      <td>1438</td>\n",
       "    </tr>\n",
       "    <tr>\n",
       "      <th>7)</th>\n",
       "      <td>P00059442</td>\n",
       "      <td>1406</td>\n",
       "    </tr>\n",
       "    <tr>\n",
       "      <th>8)</th>\n",
       "      <td>P00145042</td>\n",
       "      <td>1406</td>\n",
       "    </tr>\n",
       "    <tr>\n",
       "      <th>9)</th>\n",
       "      <td>P00237542</td>\n",
       "      <td>1394</td>\n",
       "    </tr>\n",
       "    <tr>\n",
       "      <th>10)</th>\n",
       "      <td>P00010742</td>\n",
       "      <td>1350</td>\n",
       "    </tr>\n",
       "  </tbody>\n",
       "</table style=\"display:inline; padding-right: 3em !important;\"><table style=\"display:inline; padding-right: 3em !important;\" border=\"1\" class=\"dataframe\">\n",
       "  <thead>\n",
       "    <tr style=\"text-align: right;\">\n",
       "      <th></th>\n",
       "      <th>Category</th>\n",
       "      <th>Purchase</th>\n",
       "    </tr>\n",
       "  </thead>\n",
       "  <tbody>\n",
       "    <tr>\n",
       "      <th>1)</th>\n",
       "      <td>1</td>\n",
       "      <td>91142</td>\n",
       "    </tr>\n",
       "    <tr>\n",
       "      <th>2)</th>\n",
       "      <td>5</td>\n",
       "      <td>19011</td>\n",
       "    </tr>\n",
       "    <tr>\n",
       "      <th>3)</th>\n",
       "      <td>2</td>\n",
       "      <td>16309</td>\n",
       "    </tr>\n",
       "    <tr>\n",
       "      <th>4)</th>\n",
       "      <td>3</td>\n",
       "      <td>12462</td>\n",
       "    </tr>\n",
       "    <tr>\n",
       "      <th>5)</th>\n",
       "      <td>8</td>\n",
       "      <td>9068</td>\n",
       "    </tr>\n",
       "    <tr>\n",
       "      <th>6)</th>\n",
       "      <td>6</td>\n",
       "      <td>8398</td>\n",
       "    </tr>\n",
       "    <tr>\n",
       "      <th>7)</th>\n",
       "      <td>4</td>\n",
       "      <td>5349</td>\n",
       "    </tr>\n",
       "    <tr>\n",
       "      <th>8)</th>\n",
       "      <td>11</td>\n",
       "      <td>1961</td>\n",
       "    </tr>\n",
       "    <tr>\n",
       "      <th>9)</th>\n",
       "      <td>10</td>\n",
       "      <td>1755</td>\n",
       "    </tr>\n",
       "    <tr>\n",
       "      <th>10)</th>\n",
       "      <td>13</td>\n",
       "      <td>1056</td>\n",
       "    </tr>\n",
       "  </tbody>\n",
       "</table style=\"display:inline; padding-right: 3em !important;\"><table style=\"display:inline; padding-right: 3em !important;\" border=\"1\" class=\"dataframe\">\n",
       "  <thead>\n",
       "    <tr style=\"text-align: right;\">\n",
       "      <th></th>\n",
       "      <th>User</th>\n",
       "      <th>Purchase</th>\n",
       "    </tr>\n",
       "  </thead>\n",
       "  <tbody>\n",
       "    <tr>\n",
       "      <th>1)</th>\n",
       "      <td>1001941</td>\n",
       "      <td>219</td>\n",
       "    </tr>\n",
       "    <tr>\n",
       "      <th>2)</th>\n",
       "      <td>1004277</td>\n",
       "      <td>209</td>\n",
       "    </tr>\n",
       "    <tr>\n",
       "      <th>3)</th>\n",
       "      <td>1001680</td>\n",
       "      <td>208</td>\n",
       "    </tr>\n",
       "    <tr>\n",
       "      <th>4)</th>\n",
       "      <td>1004510</td>\n",
       "      <td>208</td>\n",
       "    </tr>\n",
       "    <tr>\n",
       "      <th>5)</th>\n",
       "      <td>1000889</td>\n",
       "      <td>205</td>\n",
       "    </tr>\n",
       "    <tr>\n",
       "      <th>6)</th>\n",
       "      <td>1001181</td>\n",
       "      <td>196</td>\n",
       "    </tr>\n",
       "    <tr>\n",
       "      <th>7)</th>\n",
       "      <td>1003841</td>\n",
       "      <td>190</td>\n",
       "    </tr>\n",
       "    <tr>\n",
       "      <th>8)</th>\n",
       "      <td>1000550</td>\n",
       "      <td>182</td>\n",
       "    </tr>\n",
       "    <tr>\n",
       "      <th>9)</th>\n",
       "      <td>1003618</td>\n",
       "      <td>181</td>\n",
       "    </tr>\n",
       "    <tr>\n",
       "      <th>10)</th>\n",
       "      <td>1004448</td>\n",
       "      <td>181</td>\n",
       "    </tr>\n",
       "  </tbody>\n",
       "</table style=\"display:inline; padding-right: 3em !important;\">"
      ]
     },
     "metadata": {},
     "output_type": "display_data"
    }
   ],
   "source": [
    "def side_by_side(*args):\n",
    "    html_str=''\n",
    "    for df in args:\n",
    "        html_str+=df.to_html()\n",
    "    display_html(html_str.replace('table','table style=\"display:inline; padding-right: 3em !important;\"'),raw=True)\n",
    "side_by_side(*results)"
   ]
  },
  {
   "cell_type": "code",
   "execution_count": null,
   "metadata": {},
   "outputs": [],
   "source": []
  }
 ],
 "metadata": {
  "kernelspec": {
   "display_name": "Python 3",
   "language": "python",
   "name": "python3"
  },
  "language_info": {
   "codemirror_mode": {
    "name": "ipython",
    "version": 3
   },
   "file_extension": ".py",
   "mimetype": "text/x-python",
   "name": "python",
   "nbconvert_exporter": "python",
   "pygments_lexer": "ipython3",
   "version": "3.8.8"
  }
 },
 "nbformat": 4,
 "nbformat_minor": 4
}
